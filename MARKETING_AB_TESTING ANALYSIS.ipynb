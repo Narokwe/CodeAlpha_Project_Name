{
 "cells": [
  {
   "cell_type": "markdown",
   "id": "3ae172fb",
   "metadata": {},
   "source": [
    "# 1. Importing the necessary libraries"
   ]
  },
  {
   "cell_type": "code",
   "execution_count": 18,
   "id": "d76eea12",
   "metadata": {},
   "outputs": [],
   "source": [
    "import pandas as pd\n",
    "import numpy as np\n",
    "import matplotlib.pyplot as plt\n",
    "import seaborn as sns\n",
    "from scipy import stats"
   ]
  },
  {
   "cell_type": "markdown",
   "id": "51c5e038",
   "metadata": {},
   "source": [
    "# 2. Loading  the dataset"
   ]
  },
  {
   "cell_type": "code",
   "execution_count": 20,
   "id": "c984d8c9",
   "metadata": {},
   "outputs": [],
   "source": [
    "df = pd.read_csv('C:\\\\Users\\\\Narokwe\\\\Documents\\\\marketing_AB.csv')"
   ]
  },
  {
   "cell_type": "markdown",
   "id": "32cddb70",
   "metadata": {},
   "source": [
    " # 3. Performing Exploratory Data Analysis (EDA)"
   ]
  },
  {
   "cell_type": "markdown",
   "id": "90330962",
   "metadata": {},
   "source": [
    "# 3.1 Displaying the first few rows of the dataset"
   ]
  },
  {
   "cell_type": "code",
   "execution_count": 21,
   "id": "e2b2f5cc",
   "metadata": {},
   "outputs": [
    {
     "name": "stdout",
     "output_type": "stream",
     "text": [
      "   Unnamed: 0  user id test group  converted  total ads most ads day  \\\n",
      "0           0  1069124         ad      False        130       Monday   \n",
      "1           1  1119715         ad      False         93      Tuesday   \n",
      "2           2  1144181         ad      False         21      Tuesday   \n",
      "3           3  1435133         ad      False        355      Tuesday   \n",
      "4           4  1015700         ad      False        276       Friday   \n",
      "\n",
      "   most ads hour  \n",
      "0             20  \n",
      "1             22  \n",
      "2             18  \n",
      "3             10  \n",
      "4             14  \n"
     ]
    }
   ],
   "source": [
    "print(df.head())"
   ]
  },
  {
   "cell_type": "markdown",
   "id": "cfd91ed8",
   "metadata": {},
   "source": [
    "# 3.2 Checking the summary statistics"
   ]
  },
  {
   "cell_type": "code",
   "execution_count": 22,
   "id": "f172e934",
   "metadata": {},
   "outputs": [
    {
     "name": "stdout",
     "output_type": "stream",
     "text": [
      "          Unnamed: 0       user id      total ads  most ads hour\n",
      "count  588101.000000  5.881010e+05  588101.000000  588101.000000\n",
      "mean   294050.000000  1.310692e+06      24.820876      14.469061\n",
      "std    169770.279667  2.022260e+05      43.715181       4.834634\n",
      "min         0.000000  9.000000e+05       1.000000       0.000000\n",
      "25%    147025.000000  1.143190e+06       4.000000      11.000000\n",
      "50%    294050.000000  1.313725e+06      13.000000      14.000000\n",
      "75%    441075.000000  1.484088e+06      27.000000      18.000000\n",
      "max    588100.000000  1.654483e+06    2065.000000      23.000000\n"
     ]
    }
   ],
   "source": [
    "print(df.describe())"
   ]
  },
  {
   "cell_type": "markdown",
   "id": "5b6c0a83",
   "metadata": {},
   "source": [
    "# 3.3 Checking for missing values"
   ]
  },
  {
   "cell_type": "code",
   "execution_count": 23,
   "id": "4aedb4cd",
   "metadata": {},
   "outputs": [
    {
     "name": "stdout",
     "output_type": "stream",
     "text": [
      "Unnamed: 0       0\n",
      "user id          0\n",
      "test group       0\n",
      "converted        0\n",
      "total ads        0\n",
      "most ads day     0\n",
      "most ads hour    0\n",
      "dtype: int64\n"
     ]
    }
   ],
   "source": [
    "print(df.isnull().sum())"
   ]
  },
  {
   "cell_type": "markdown",
   "id": "59ed83f7",
   "metadata": {},
   "source": [
    "# 4. Conducting the A/B test"
   ]
  },
  {
   "cell_type": "markdown",
   "id": "67168aaa",
   "metadata": {},
   "source": [
    "# 4.1 Extracting data for control (PSA) and test (ad) groups"
   ]
  },
  {
   "cell_type": "code",
   "execution_count": 24,
   "id": "6b787e11",
   "metadata": {},
   "outputs": [],
   "source": [
    "control_group = df[df['test group'] == 'psa']['converted']\n",
    "test_group = df[df['test group'] == 'ad']['converted']"
   ]
  },
  {
   "cell_type": "markdown",
   "id": "ffe9fe4b",
   "metadata": {},
   "source": [
    "# 4.2 Performing a two-sample t-test"
   ]
  },
  {
   "cell_type": "code",
   "execution_count": 25,
   "id": "f92389bf",
   "metadata": {},
   "outputs": [
    {
     "name": "stdout",
     "output_type": "stream",
     "text": [
      "T-statistic: -7.37040597428566, p-value: 1.7033052627831264e-13\n"
     ]
    }
   ],
   "source": [
    "t_stat, p_value = stats.ttest_ind(control_group, test_group)\n",
    "print(f'T-statistic: {t_stat}, p-value: {p_value}')"
   ]
  },
  {
   "cell_type": "markdown",
   "id": "582aca75",
   "metadata": {},
   "source": [
    "# 5. Analyzing the results using statistical techniques"
   ]
  },
  {
   "cell_type": "markdown",
   "id": "f3cd39d1",
   "metadata": {},
   "source": [
    "# 5.1 Checking for statistical significance"
   ]
  },
  {
   "cell_type": "code",
   "execution_count": 26,
   "id": "29975580",
   "metadata": {},
   "outputs": [
    {
     "name": "stdout",
     "output_type": "stream",
     "text": [
      "Reject the null hypothesis: There is a statistically significant difference between the groups.\n",
      "Test group (ad) has a higher conversion rate.\n"
     ]
    }
   ],
   "source": [
    "alpha = 0.05\n",
    "if p_value < alpha:\n",
    "    print(\"Reject the null hypothesis: There is a statistically significant difference between the groups.\")\n",
    "    if control_group.mean() < test_group.mean():\n",
    "        print(\"Test group (ad) has a higher conversion rate.\")\n",
    "    else:\n",
    "        print(\"Control group (PSA) has a higher conversion rate.\")\n",
    "else:\n",
    "    print(\"Fail to reject the null hypothesis: There is no statistically significant difference between the groups.\")\n"
   ]
  },
  {
   "cell_type": "markdown",
   "id": "b52344b2",
   "metadata": {},
   "source": [
    "# 6. Drawing actionable insights"
   ]
  },
  {
   "cell_type": "markdown",
   "id": "1dcce2fe",
   "metadata": {},
   "source": [
    "# Increase investment in advertising: Since the test group (ad) showed a higher conversion rate, it indicates that the advertising campaign was effective in driving conversions. Therefore, it would be advisable to allocate more resources and budget towards advertising efforts."
   ]
  },
  {
   "cell_type": "markdown",
   "id": "6a71c422",
   "metadata": {},
   "source": [
    "# 7. Converting 'converted' column to numeric values"
   ]
  },
  {
   "cell_type": "code",
   "execution_count": 28,
   "id": "854d240c",
   "metadata": {},
   "outputs": [],
   "source": [
    "df['converted_numeric'] = df['converted'].astype(int)"
   ]
  },
  {
   "cell_type": "markdown",
   "id": "db2d61ed",
   "metadata": {},
   "source": [
    "# 8. Visualizing the data"
   ]
  },
  {
   "cell_type": "code",
   "execution_count": 29,
   "id": "5ff4d15c",
   "metadata": {},
   "outputs": [
    {
     "data": {
      "image/png": "[encoded data removed]",
      "text/plain": [
       "<Figure size 800x600 with 1 Axes>"
      ]
     },
     "metadata": {},
     "output_type": "display_data"
    }
   ],
   "source": [
    "plt.figure(figsize=(8, 6))\n",
    "sns.boxplot(x='test group', y='converted_numeric', data=df)\n",
    "plt.title('Conversion Rates by Group')\n",
    "plt.xlabel('Group')\n",
    "plt.ylabel('Conversion Rate')\n",
    "plt.show()"
   ]
  },
  {
   "cell_type": "code",
   "execution_count": null,
   "id": "bf768862",
   "metadata": {},
   "outputs": [],
   "source": []
  }
 ],
 "metadata": {
  "kernelspec": {
   "display_name": "Python 3 (ipykernel)",
   "language": "python",
   "name": "python3"
  },
  "language_info": {
   "codemirror_mode": {
    "name": "ipython",
    "version": 3
   },
   "file_extension": ".py",
   "mimetype": "text/x-python",
   "name": "python",
   "nbconvert_exporter": "python",
   "pygments_lexer": "ipython3",
   "version": "3.11.5"
  }
 },
 "nbformat": 4,
 "nbformat_minor": 5
}
